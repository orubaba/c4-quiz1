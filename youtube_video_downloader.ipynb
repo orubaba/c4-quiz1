{
  "nbformat": 4,
  "nbformat_minor": 0,
  "metadata": {
    "colab": {
      "provenance": [],
      "mount_file_id": "11NTfoOrcwhqbq0tCX9rATstOIKNKBjrd",
      "authorship_tag": "ABX9TyOyFZxOKCDUEk59gJxP/Htp",
      "include_colab_link": true
    },
    "kernelspec": {
      "name": "python3",
      "display_name": "Python 3"
    },
    "language_info": {
      "name": "python"
    }
  },
  "cells": [
    {
      "cell_type": "markdown",
      "metadata": {
        "id": "view-in-github",
        "colab_type": "text"
      },
      "source": [
        "<a href=\"https://colab.research.google.com/github/orubaba/c4-quiz1/blob/main/youtube_video_downloader.ipynb\" target=\"_parent\"><img src=\"https://colab.research.google.com/assets/colab-badge.svg\" alt=\"Open In Colab\"/></a>"
      ]
    },
    {
      "cell_type": "code",
      "source": [
        "!pip install pytube"
      ],
      "metadata": {
        "id": "fwZnPMZBbVED"
      },
      "execution_count": null,
      "outputs": []
    },
    {
      "cell_type": "code",
      "source": [
        "# Import necessary libraries\n",
        "from google.colab import files\n",
        "import pytube\n",
        "import os\n",
        "\n",
        "# Ask the user to enter the YouTube video URL\n",
        "video_url = input('Enter YouTube video URL: ')\n",
        "\n",
        "# Create an instance of the YouTube video\n",
        "video_instance = pytube.YouTube(video_url)\n",
        "\n",
        "# Get the highest resolution stream available for the video\n",
        "stream = video_instance.streams.get_highest_resolution()\n",
        "\n",
        "# Download the video stream to a temporary location in Colab\n",
        "temp_file = stream.download()\n",
        "\n",
        "# Rename the file to include only the video title (removing any invalid characters)\n",
        "video_title = ''.join(c for c in video_instance.title if c.isalnum() or c in (' ', '.', '_')).rstrip()\n",
        "new_filename = f\"{video_title}.mp4\"\n",
        "os.rename(temp_file, new_filename)\n",
        "\n",
        "# Download the file to the user's local machine\n",
        "files.download(new_filename)\n",
        "\n",
        "print(f\"Video '{video_title}' has been downloaded and is ready for you to save in your Downloads folder.\")"
      ],
      "metadata": {
        "id": "zWTbWGWObERe"
      },
      "execution_count": null,
      "outputs": []
    }
  ]
}